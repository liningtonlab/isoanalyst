{
 "cells": [
  {
   "cell_type": "code",
   "execution_count": 1,
   "metadata": {},
   "outputs": [],
   "source": [
    "import rtree\n",
    "import pandas as pd\n",
    "\n",
    "blanks = pd.read_csv(\"./IsotopeDataProcessing/J2/Blanks/All_ions_averaged.csv\")\n",
    "df = pd.read_csv(\"./IsotopeDataProcessing/J2/ACE/All_ions_averaged.csv\")"
   ]
  },
  {
   "cell_type": "code",
   "execution_count": 2,
   "metadata": {},
   "outputs": [],
   "source": [
    "import dereplicator"
   ]
  },
  {
   "cell_type": "code",
   "execution_count": 3,
   "metadata": {},
   "outputs": [
    {
     "data": {
      "text/plain": [
       "{'ColsToMatch': ['RetTime', 'PrecMz', 'PrecZ'],\n",
       " 'Tolerances': {'PrecMz': ['ppm', 10],\n",
       "  'RetTime': ['window', 0.03],\n",
       "  'PrecZ': ['window', 0.1]},\n",
       " 'MinReps': 3}"
      ]
     },
     "execution_count": 3,
     "metadata": {},
     "output_type": "execute_result"
    }
   ],
   "source": [
    "dereplicator.CONFIG"
   ]
  },
  {
   "cell_type": "code",
   "execution_count": 4,
   "metadata": {},
   "outputs": [],
   "source": [
    "dereplicator.gen_error_cols(blanks, dereplicator.CONFIG['Tolerances'])\n",
    "dereplicator.gen_error_cols(df, dereplicator.CONFIG['Tolerances'])"
   ]
  },
  {
   "cell_type": "code",
   "execution_count": 5,
   "metadata": {},
   "outputs": [
    {
     "data": {
      "text/html": [
       "<div>\n",
       "<style scoped>\n",
       "    .dataframe tbody tr th:only-of-type {\n",
       "        vertical-align: middle;\n",
       "    }\n",
       "\n",
       "    .dataframe tbody tr th {\n",
       "        vertical-align: top;\n",
       "    }\n",
       "\n",
       "    .dataframe thead th {\n",
       "        text-align: right;\n",
       "    }\n",
       "</style>\n",
       "<table border=\"1\" class=\"dataframe\">\n",
       "  <thead>\n",
       "    <tr style=\"text-align: right;\">\n",
       "      <th></th>\n",
       "      <th>RetTime</th>\n",
       "      <th>PrecMz</th>\n",
       "      <th>PrecZ</th>\n",
       "      <th>Samples</th>\n",
       "      <th>LowScan</th>\n",
       "      <th>HighScan</th>\n",
       "      <th>rep_count</th>\n",
       "      <th>PrecMz_low</th>\n",
       "      <th>PrecMz_high</th>\n",
       "      <th>RetTime_low</th>\n",
       "      <th>RetTime_high</th>\n",
       "      <th>PrecZ_low</th>\n",
       "      <th>PrecZ_high</th>\n",
       "    </tr>\n",
       "  </thead>\n",
       "  <tbody>\n",
       "    <tr>\n",
       "      <th>0</th>\n",
       "      <td>0.375</td>\n",
       "      <td>402.9132</td>\n",
       "      <td>1.0</td>\n",
       "      <td>20190806_BLANK02_7min_iDTs_CPPIS|20190806_BLAN...</td>\n",
       "      <td>45</td>\n",
       "      <td>50</td>\n",
       "      <td>3</td>\n",
       "      <td>402.909171</td>\n",
       "      <td>402.917229</td>\n",
       "      <td>0.345</td>\n",
       "      <td>0.405</td>\n",
       "      <td>0.9</td>\n",
       "      <td>1.1</td>\n",
       "    </tr>\n",
       "    <tr>\n",
       "      <th>1</th>\n",
       "      <td>0.368</td>\n",
       "      <td>500.9139</td>\n",
       "      <td>1.0</td>\n",
       "      <td>20190806_BLANK01_7min_iDTs_CPPIS|20190806_BLAN...</td>\n",
       "      <td>45</td>\n",
       "      <td>51</td>\n",
       "      <td>3</td>\n",
       "      <td>500.908891</td>\n",
       "      <td>500.918909</td>\n",
       "      <td>0.338</td>\n",
       "      <td>0.398</td>\n",
       "      <td>0.9</td>\n",
       "      <td>1.1</td>\n",
       "    </tr>\n",
       "    <tr>\n",
       "      <th>2</th>\n",
       "      <td>0.375</td>\n",
       "      <td>288.9327</td>\n",
       "      <td>1.0</td>\n",
       "      <td>20190806_BLANK01_7min_iDTs_CPPIS|20190806_BLAN...</td>\n",
       "      <td>45</td>\n",
       "      <td>51</td>\n",
       "      <td>3</td>\n",
       "      <td>288.929811</td>\n",
       "      <td>288.935589</td>\n",
       "      <td>0.345</td>\n",
       "      <td>0.405</td>\n",
       "      <td>0.9</td>\n",
       "      <td>1.1</td>\n",
       "    </tr>\n",
       "    <tr>\n",
       "      <th>3</th>\n",
       "      <td>0.368</td>\n",
       "      <td>386.9349</td>\n",
       "      <td>1.0</td>\n",
       "      <td>20190806_BLANK01_7min_iDTs_CPPIS|20190806_BLAN...</td>\n",
       "      <td>45</td>\n",
       "      <td>52</td>\n",
       "      <td>3</td>\n",
       "      <td>386.931031</td>\n",
       "      <td>386.938769</td>\n",
       "      <td>0.338</td>\n",
       "      <td>0.398</td>\n",
       "      <td>0.9</td>\n",
       "      <td>1.1</td>\n",
       "    </tr>\n",
       "    <tr>\n",
       "      <th>4</th>\n",
       "      <td>0.396</td>\n",
       "      <td>498.9130</td>\n",
       "      <td>1.0</td>\n",
       "      <td>20190806_BLANK01_7min_iDTs_CPPIS|20190806_BLAN...</td>\n",
       "      <td>49</td>\n",
       "      <td>55</td>\n",
       "      <td>3</td>\n",
       "      <td>498.908011</td>\n",
       "      <td>498.917989</td>\n",
       "      <td>0.366</td>\n",
       "      <td>0.426</td>\n",
       "      <td>0.9</td>\n",
       "      <td>1.1</td>\n",
       "    </tr>\n",
       "  </tbody>\n",
       "</table>\n",
       "</div>"
      ],
      "text/plain": [
       "   RetTime    PrecMz  PrecZ  \\\n",
       "0    0.375  402.9132    1.0   \n",
       "1    0.368  500.9139    1.0   \n",
       "2    0.375  288.9327    1.0   \n",
       "3    0.368  386.9349    1.0   \n",
       "4    0.396  498.9130    1.0   \n",
       "\n",
       "                                             Samples  LowScan  HighScan  \\\n",
       "0  20190806_BLANK02_7min_iDTs_CPPIS|20190806_BLAN...       45        50   \n",
       "1  20190806_BLANK01_7min_iDTs_CPPIS|20190806_BLAN...       45        51   \n",
       "2  20190806_BLANK01_7min_iDTs_CPPIS|20190806_BLAN...       45        51   \n",
       "3  20190806_BLANK01_7min_iDTs_CPPIS|20190806_BLAN...       45        52   \n",
       "4  20190806_BLANK01_7min_iDTs_CPPIS|20190806_BLAN...       49        55   \n",
       "\n",
       "   rep_count  PrecMz_low  PrecMz_high  RetTime_low  RetTime_high  PrecZ_low  \\\n",
       "0          3  402.909171   402.917229        0.345         0.405        0.9   \n",
       "1          3  500.908891   500.918909        0.338         0.398        0.9   \n",
       "2          3  288.929811   288.935589        0.345         0.405        0.9   \n",
       "3          3  386.931031   386.938769        0.338         0.398        0.9   \n",
       "4          3  498.908011   498.917989        0.366         0.426        0.9   \n",
       "\n",
       "   PrecZ_high  \n",
       "0         1.1  \n",
       "1         1.1  \n",
       "2         1.1  \n",
       "3         1.1  \n",
       "4         1.1  "
      ]
     },
     "execution_count": 5,
     "metadata": {},
     "output_type": "execute_result"
    }
   ],
   "source": [
    "blanks.head()"
   ]
  },
  {
   "cell_type": "code",
   "execution_count": 6,
   "metadata": {},
   "outputs": [
    {
     "data": {
      "text/html": [
       "<div>\n",
       "<style scoped>\n",
       "    .dataframe tbody tr th:only-of-type {\n",
       "        vertical-align: middle;\n",
       "    }\n",
       "\n",
       "    .dataframe tbody tr th {\n",
       "        vertical-align: top;\n",
       "    }\n",
       "\n",
       "    .dataframe thead th {\n",
       "        text-align: right;\n",
       "    }\n",
       "</style>\n",
       "<table border=\"1\" class=\"dataframe\">\n",
       "  <thead>\n",
       "    <tr style=\"text-align: right;\">\n",
       "      <th></th>\n",
       "      <th>RetTime</th>\n",
       "      <th>PrecMz</th>\n",
       "      <th>PrecZ</th>\n",
       "      <th>Samples</th>\n",
       "      <th>LowScan</th>\n",
       "      <th>HighScan</th>\n",
       "      <th>rep_count</th>\n",
       "      <th>PrecMz_low</th>\n",
       "      <th>PrecMz_high</th>\n",
       "      <th>RetTime_low</th>\n",
       "      <th>RetTime_high</th>\n",
       "      <th>PrecZ_low</th>\n",
       "      <th>PrecZ_high</th>\n",
       "    </tr>\n",
       "  </thead>\n",
       "  <tbody>\n",
       "    <tr>\n",
       "      <th>0</th>\n",
       "      <td>0.360</td>\n",
       "      <td>298.8795</td>\n",
       "      <td>1.0</td>\n",
       "      <td>20190806_RLUS135312ACE-2_7min_iDTs_CPPIS|20190...</td>\n",
       "      <td>41</td>\n",
       "      <td>50</td>\n",
       "      <td>3</td>\n",
       "      <td>298.876511</td>\n",
       "      <td>298.882489</td>\n",
       "      <td>0.330</td>\n",
       "      <td>0.390</td>\n",
       "      <td>0.9</td>\n",
       "      <td>1.1</td>\n",
       "    </tr>\n",
       "    <tr>\n",
       "      <th>1</th>\n",
       "      <td>0.389</td>\n",
       "      <td>696.8515</td>\n",
       "      <td>2.0</td>\n",
       "      <td>20190806_RLUS135312ACE-2_7min_iDTs_CPPIS|20190...</td>\n",
       "      <td>45</td>\n",
       "      <td>54</td>\n",
       "      <td>3</td>\n",
       "      <td>696.844531</td>\n",
       "      <td>696.858469</td>\n",
       "      <td>0.359</td>\n",
       "      <td>0.419</td>\n",
       "      <td>1.9</td>\n",
       "      <td>2.1</td>\n",
       "    </tr>\n",
       "    <tr>\n",
       "      <th>2</th>\n",
       "      <td>0.392</td>\n",
       "      <td>769.8236</td>\n",
       "      <td>2.0</td>\n",
       "      <td>20190806_RLUS135312ACE-2_7min_iDTs_CPPIS|20190...</td>\n",
       "      <td>45</td>\n",
       "      <td>54</td>\n",
       "      <td>3</td>\n",
       "      <td>769.815902</td>\n",
       "      <td>769.831298</td>\n",
       "      <td>0.362</td>\n",
       "      <td>0.422</td>\n",
       "      <td>1.9</td>\n",
       "      <td>2.1</td>\n",
       "    </tr>\n",
       "    <tr>\n",
       "      <th>3</th>\n",
       "      <td>0.387</td>\n",
       "      <td>1005.7725</td>\n",
       "      <td>1.0</td>\n",
       "      <td>20190806_RLUS135312ACE-1_7min_iDTs_CPPIS|20190...</td>\n",
       "      <td>45</td>\n",
       "      <td>54</td>\n",
       "      <td>4</td>\n",
       "      <td>1005.762442</td>\n",
       "      <td>1005.782558</td>\n",
       "      <td>0.357</td>\n",
       "      <td>0.417</td>\n",
       "      <td>0.9</td>\n",
       "      <td>1.1</td>\n",
       "    </tr>\n",
       "    <tr>\n",
       "      <th>4</th>\n",
       "      <td>0.396</td>\n",
       "      <td>834.8024</td>\n",
       "      <td>2.0</td>\n",
       "      <td>20190806_RLUS135312ACE-2_7min_iDTs_CPPIS|20190...</td>\n",
       "      <td>45</td>\n",
       "      <td>54</td>\n",
       "      <td>4</td>\n",
       "      <td>834.794052</td>\n",
       "      <td>834.810748</td>\n",
       "      <td>0.366</td>\n",
       "      <td>0.426</td>\n",
       "      <td>1.9</td>\n",
       "      <td>2.1</td>\n",
       "    </tr>\n",
       "  </tbody>\n",
       "</table>\n",
       "</div>"
      ],
      "text/plain": [
       "   RetTime     PrecMz  PrecZ  \\\n",
       "0    0.360   298.8795    1.0   \n",
       "1    0.389   696.8515    2.0   \n",
       "2    0.392   769.8236    2.0   \n",
       "3    0.387  1005.7725    1.0   \n",
       "4    0.396   834.8024    2.0   \n",
       "\n",
       "                                             Samples  LowScan  HighScan  \\\n",
       "0  20190806_RLUS135312ACE-2_7min_iDTs_CPPIS|20190...       41        50   \n",
       "1  20190806_RLUS135312ACE-2_7min_iDTs_CPPIS|20190...       45        54   \n",
       "2  20190806_RLUS135312ACE-2_7min_iDTs_CPPIS|20190...       45        54   \n",
       "3  20190806_RLUS135312ACE-1_7min_iDTs_CPPIS|20190...       45        54   \n",
       "4  20190806_RLUS135312ACE-2_7min_iDTs_CPPIS|20190...       45        54   \n",
       "\n",
       "   rep_count   PrecMz_low  PrecMz_high  RetTime_low  RetTime_high  PrecZ_low  \\\n",
       "0          3   298.876511   298.882489        0.330         0.390        0.9   \n",
       "1          3   696.844531   696.858469        0.359         0.419        1.9   \n",
       "2          3   769.815902   769.831298        0.362         0.422        1.9   \n",
       "3          4  1005.762442  1005.782558        0.357         0.417        0.9   \n",
       "4          4   834.794052   834.810748        0.366         0.426        1.9   \n",
       "\n",
       "   PrecZ_high  \n",
       "0         1.1  \n",
       "1         2.1  \n",
       "2         2.1  \n",
       "3         1.1  \n",
       "4         2.1  "
      ]
     },
     "execution_count": 6,
     "metadata": {},
     "output_type": "execute_result"
    }
   ],
   "source": [
    "df.head()"
   ]
  },
  {
   "cell_type": "code",
   "execution_count": 7,
   "metadata": {},
   "outputs": [],
   "source": [
    "b_rects = dereplicator.get_rects(blanks, dereplicator.CONFIG)\n",
    "d_rects = dereplicator.get_rects(df, dereplicator.CONFIG)"
   ]
  },
  {
   "cell_type": "code",
   "execution_count": 8,
   "metadata": {},
   "outputs": [],
   "source": [
    "data_tree = dereplicator.build_rtree(d_rects, dereplicator.CONFIG)"
   ]
  },
  {
   "cell_type": "code",
   "execution_count": 9,
   "metadata": {},
   "outputs": [],
   "source": [
    "to_drop = set()\n",
    "for i, r in enumerate(b_rects):\n",
    "    to_drop.update(data_tree.intersection(r))\n"
   ]
  },
  {
   "cell_type": "code",
   "execution_count": 10,
   "metadata": {},
   "outputs": [
    {
     "data": {
      "text/plain": [
       "True"
      ]
     },
     "execution_count": 10,
     "metadata": {},
     "output_type": "execute_result"
    }
   ],
   "source": [
    "to_drop == dereplicator.find_overlap(df, blanks)"
   ]
  },
  {
   "cell_type": "code",
   "execution_count": 20,
   "metadata": {},
   "outputs": [
    {
     "data": {
      "text/plain": [
       "RetTime         True\n",
       "PrecMz          True\n",
       "PrecZ           True\n",
       "Samples         True\n",
       "LowScan         True\n",
       "HighScan        True\n",
       "rep_count       True\n",
       "PrecMz_low      True\n",
       "PrecMz_high     True\n",
       "RetTime_low     True\n",
       "RetTime_high    True\n",
       "PrecZ_low       True\n",
       "PrecZ_high      True\n",
       "Name: 26, dtype: bool"
      ]
     },
     "execution_count": 20,
     "metadata": {},
     "output_type": "execute_result"
    }
   ],
   "source": [
    "df.iloc[26] == df.loc[26]"
   ]
  },
  {
   "cell_type": "code",
   "execution_count": null,
   "metadata": {},
   "outputs": [],
   "source": []
  }
 ],
 "metadata": {
  "kernelspec": {
   "display_name": "Python 3",
   "language": "python",
   "name": "python3"
  },
  "language_info": {
   "codemirror_mode": {
    "name": "ipython",
    "version": 3
   },
   "file_extension": ".py",
   "mimetype": "text/x-python",
   "name": "python",
   "nbconvert_exporter": "python",
   "pygments_lexer": "ipython3",
   "version": "3.7.5"
  }
 },
 "nbformat": 4,
 "nbformat_minor": 4
}
